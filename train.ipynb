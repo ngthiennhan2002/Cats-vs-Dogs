{
 "cells": [
  {
   "cell_type": "code",
   "execution_count": 1,
   "metadata": {},
   "outputs": [],
   "source": [
    "import sys\n",
    "sys.path.append(\"./utils\")\n",
    "\n",
    "from utils.lib import *\n",
    "from utils.preprocessing import *\n",
    "from utils.create_model import *\n",
    "from utils.visualization import *\n",
    "\n",
    "import tensorflow as tf"
   ]
  },
  {
   "cell_type": "code",
   "execution_count": 2,
   "metadata": {},
   "outputs": [],
   "source": [
    "def train():\n",
    "    train_generator, validation_generator = preprocessing()\n",
    "\n",
    "    callback = mycallback()\n",
    "\n",
    "    model = create_model()\n",
    "\n",
    "    history = model.fit(train_generator,\n",
    "                        epochs=10,\n",
    "                        batch_size=32,\n",
    "                        verbose=1,\n",
    "                        callbacks=[tf.keras.callbacks.EarlyStopping(monitor='loss', patience=2), callback],\n",
    "                        validation_data=validation_generator)\n",
    "    \n",
    "    return history"
   ]
  },
  {
   "cell_type": "code",
   "execution_count": 3,
   "metadata": {},
   "outputs": [
    {
     "name": "stderr",
     "output_type": "stream",
     "text": [
      "c:\\Users\\ASUS\\AppData\\Local\\Programs\\Python\\Python311\\Lib\\site-packages\\PIL\\TiffImagePlugin.py:868: UserWarning: Truncated File Read\n",
      "  warnings.warn(str(msg))\n"
     ]
    },
    {
     "name": "stdout",
     "output_type": "stream",
     "text": [
      "Found 19998 images belonging to 2 classes.\n",
      "Found 4998 images belonging to 2 classes.\n",
      "Epoch 1/10\n",
      "313/313 [==============================] - 93s 294ms/step - loss: 0.5924 - accuracy: 0.6720 - val_loss: 0.5118 - val_accuracy: 0.7489\n",
      "Epoch 2/10\n",
      "313/313 [==============================] - 92s 293ms/step - loss: 0.4752 - accuracy: 0.7715 - val_loss: 0.4445 - val_accuracy: 0.7851\n",
      "Epoch 3/10\n",
      "313/313 [==============================] - 92s 294ms/step - loss: 0.4064 - accuracy: 0.8131 - val_loss: 0.4179 - val_accuracy: 0.8131\n",
      "Epoch 4/10\n",
      "313/313 [==============================] - 92s 295ms/step - loss: 0.3486 - accuracy: 0.8468 - val_loss: 0.4168 - val_accuracy: 0.8151\n",
      "Epoch 5/10\n",
      "313/313 [==============================] - ETA: 0s - loss: 0.2830 - accuracy: 0.8773Epoch 4: Reached accuracy threshold\n",
      "313/313 [==============================] - 93s 296ms/step - loss: 0.2830 - accuracy: 0.8773 - val_loss: 0.4005 - val_accuracy: 0.8237\n",
      "Epoch 6/10\n",
      "313/313 [==============================] - ETA: 0s - loss: 0.2156 - accuracy: 0.9111Epoch 5: Reached accuracy threshold\n",
      "313/313 [==============================] - 93s 298ms/step - loss: 0.2156 - accuracy: 0.9111 - val_loss: 0.4461 - val_accuracy: 0.8147\n",
      "Epoch 7/10\n",
      "313/313 [==============================] - ETA: 0s - loss: 0.1581 - accuracy: 0.9380Epoch 6: Reached accuracy threshold\n",
      "313/313 [==============================] - 94s 299ms/step - loss: 0.1581 - accuracy: 0.9380 - val_loss: 0.4769 - val_accuracy: 0.8197\n",
      "Epoch 8/10\n",
      "313/313 [==============================] - ETA: 0s - loss: 0.1039 - accuracy: 0.9602Epoch 7: Reached accuracy threshold\n",
      "313/313 [==============================] - 94s 299ms/step - loss: 0.1039 - accuracy: 0.9602 - val_loss: 0.5632 - val_accuracy: 0.8241\n",
      "Epoch 9/10\n",
      "313/313 [==============================] - ETA: 0s - loss: 0.0685 - accuracy: 0.9749Epoch 8: Reached accuracy threshold\n",
      "313/313 [==============================] - 94s 300ms/step - loss: 0.0685 - accuracy: 0.9749 - val_loss: 0.7082 - val_accuracy: 0.8081\n",
      "Epoch 10/10\n",
      "313/313 [==============================] - ETA: 0s - loss: 0.0568 - accuracy: 0.9803Epoch 9: Reached accuracy threshold\n",
      "313/313 [==============================] - 93s 298ms/step - loss: 0.0568 - accuracy: 0.9803 - val_loss: 0.8042 - val_accuracy: 0.8121\n"
     ]
    }
   ],
   "source": [
    "history = train()"
   ]
  },
  {
   "cell_type": "code",
   "execution_count": 20,
   "metadata": {},
   "outputs": [],
   "source": [
    "with open('history.txt', 'w') as file:\n",
    "    file.write(str(history.history['accuracy']) + '\\n')\n",
    "    file.write(str(history.history['val_accuracy']) + '\\n')\n",
    "    file.write(str(history.history['loss']) + '\\n')\n",
    "    file.write(str(history.history['val_loss']))\n"
   ]
  }
 ],
 "metadata": {
  "kernelspec": {
   "display_name": "Python 3",
   "language": "python",
   "name": "python3"
  },
  "language_info": {
   "codemirror_mode": {
    "name": "ipython",
    "version": 3
   },
   "file_extension": ".py",
   "mimetype": "text/x-python",
   "name": "python",
   "nbconvert_exporter": "python",
   "pygments_lexer": "ipython3",
   "version": "3.11.4"
  },
  "orig_nbformat": 4
 },
 "nbformat": 4,
 "nbformat_minor": 2
}
